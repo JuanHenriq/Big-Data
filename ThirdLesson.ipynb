{
  "nbformat": 4,
  "nbformat_minor": 0,
  "metadata": {
    "colab": {
      "provenance": [],
      "authorship_tag": "ABX9TyNcwOIhEGEwOTM0fazcZzR/",
      "include_colab_link": true
    },
    "kernelspec": {
      "name": "python3",
      "display_name": "Python 3"
    },
    "language_info": {
      "name": "python"
    }
  },
  "cells": [
    {
      "cell_type": "markdown",
      "metadata": {
        "id": "view-in-github",
        "colab_type": "text"
      },
      "source": [
        "<a href=\"https://colab.research.google.com/github/JuanHenriq/Big-Data/blob/main/ThirdLesson.ipynb\" target=\"_parent\"><img src=\"https://colab.research.google.com/assets/colab-badge.svg\" alt=\"Open In Colab\"/></a>"
      ]
    },
    {
      "cell_type": "code",
      "execution_count": null,
      "metadata": {
        "id": "PKETUd25fGky"
      },
      "outputs": [],
      "source": [
        "import pandas as pd\n",
        "import numpy as np"
      ]
    },
    {
      "cell_type": "markdown",
      "source": [
        "# **Visualizando os valores da serie criada**"
      ],
      "metadata": {
        "id": "A5YZB14fgut4"
      }
    },
    {
      "cell_type": "code",
      "source": [
        "serie1 = pd.Series ([10, 8, 2, 5])\n",
        "serie1"
      ],
      "metadata": {
        "colab": {
          "base_uri": "https://localhost:8080/"
        },
        "id": "T326FPXsfLZg",
        "outputId": "e7ffed6b-3b16-49d2-c922-655fc90a7976"
      },
      "execution_count": null,
      "outputs": [
        {
          "output_type": "execute_result",
          "data": {
            "text/plain": [
              "0    10\n",
              "1     8\n",
              "2     2\n",
              "3     5\n",
              "dtype: int64"
            ]
          },
          "metadata": {},
          "execution_count": 8
        }
      ]
    },
    {
      "cell_type": "code",
      "source": [
        "serie1.index"
      ],
      "metadata": {
        "colab": {
          "base_uri": "https://localhost:8080/"
        },
        "id": "g_lASoPcgHIH",
        "outputId": "e2136337-fc0b-4113-f86b-e43d4b1eea4b"
      },
      "execution_count": null,
      "outputs": [
        {
          "output_type": "execute_result",
          "data": {
            "text/plain": [
              "RangeIndex(start=0, stop=4, step=1)"
            ]
          },
          "metadata": {},
          "execution_count": 9
        }
      ]
    },
    {
      "cell_type": "markdown",
      "source": [
        "# **Criando serios com random**"
      ],
      "metadata": {
        "id": "vOVsZirdhD-v"
      }
    },
    {
      "cell_type": "code",
      "source": [
        "serie2 = pd.Series(np.random.rand(10), index=np.arange(1,11))\n",
        "serie2"
      ],
      "metadata": {
        "colab": {
          "base_uri": "https://localhost:8080/"
        },
        "id": "SvSC5Elhho0w",
        "outputId": "e20fd4b0-ecec-4ddc-918d-1edde3fabef4"
      },
      "execution_count": null,
      "outputs": [
        {
          "output_type": "execute_result",
          "data": {
            "text/plain": [
              "1     0.142194\n",
              "2     0.317421\n",
              "3     0.768171\n",
              "4     0.831929\n",
              "5     0.576896\n",
              "6     0.542009\n",
              "7     0.155724\n",
              "8     0.567655\n",
              "9     0.165654\n",
              "10    0.755532\n",
              "dtype: float64"
            ]
          },
          "metadata": {},
          "execution_count": 10
        }
      ]
    },
    {
      "cell_type": "markdown",
      "source": [
        "# **Criando series já com definição de index**"
      ],
      "metadata": {
        "id": "LAYyhKVTiJMP"
      }
    },
    {
      "cell_type": "code",
      "source": [
        "serie2 = pd.Series([4, 7 , 6, 3], index=['a', 'b', 'c', 'd'])\n",
        "serie2"
      ],
      "metadata": {
        "colab": {
          "base_uri": "https://localhost:8080/"
        },
        "id": "BJfdBoR8iOaP",
        "outputId": "af28700e-b346-40b4-f449-67bfbddd29b8"
      },
      "execution_count": null,
      "outputs": [
        {
          "output_type": "execute_result",
          "data": {
            "text/plain": [
              "a    4\n",
              "b    7\n",
              "c    6\n",
              "d    3\n",
              "dtype: int64"
            ]
          },
          "metadata": {},
          "execution_count": 11
        }
      ]
    },
    {
      "cell_type": "code",
      "source": [
        "serie2 = pd.Series([True, 7 , 6, 3], index=[4.5, 'b', 'c', 'd'])\n",
        "serie2"
      ],
      "metadata": {
        "colab": {
          "base_uri": "https://localhost:8080/"
        },
        "id": "R4mgfj2zi4J3",
        "outputId": "a0beb062-4cc5-436c-a591-f71bb6c3c970"
      },
      "execution_count": null,
      "outputs": [
        {
          "output_type": "execute_result",
          "data": {
            "text/plain": [
              "4.5    True\n",
              "b         7\n",
              "c         6\n",
              "d         3\n",
              "dtype: object"
            ]
          },
          "metadata": {},
          "execution_count": 12
        }
      ]
    },
    {
      "cell_type": "code",
      "source": [
        "serie2['c']"
      ],
      "metadata": {
        "colab": {
          "base_uri": "https://localhost:8080/"
        },
        "id": "diXhxxf5jVDu",
        "outputId": "1fe27079-9071-4d52-d355-d035c7bcf710"
      },
      "execution_count": null,
      "outputs": [
        {
          "output_type": "execute_result",
          "data": {
            "text/plain": [
              "6"
            ]
          },
          "metadata": {},
          "execution_count": 13
        }
      ]
    },
    {
      "cell_type": "markdown",
      "source": [
        "# **Criando uma série a partir de um dicionário**"
      ],
      "metadata": {
        "id": "o9dryThPj4wY"
      }
    },
    {
      "cell_type": "code",
      "source": [
        "capitais = { 'Pernamuco':'Recife',\n",
        "            'Paraíba':'João Pessoa',\n",
        "             'Ceará':'Fortaleza',\n",
        "             'Bahia':'Salvador',\n",
        "             'Alagoas': 'Maceió'}"
      ],
      "metadata": {
        "id": "nObzGjeijkNf"
      },
      "execution_count": null,
      "outputs": []
    },
    {
      "cell_type": "code",
      "source": [
        "type(capitais)"
      ],
      "metadata": {
        "colab": {
          "base_uri": "https://localhost:8080/"
        },
        "id": "Brslg-pcjvoH",
        "outputId": "67c834fb-0978-4960-8c04-f3af31860ab6"
      },
      "execution_count": null,
      "outputs": [
        {
          "output_type": "execute_result",
          "data": {
            "text/plain": [
              "dict"
            ]
          },
          "metadata": {},
          "execution_count": 18
        }
      ]
    },
    {
      "cell_type": "code",
      "source": [
        "serie3 = pd.Series(capitais)\n",
        "serie3"
      ],
      "metadata": {
        "colab": {
          "base_uri": "https://localhost:8080/"
        },
        "id": "XbGKaIlfk4A2",
        "outputId": "001cc7c9-8395-4253-c0dd-082981eb9edb"
      },
      "execution_count": null,
      "outputs": [
        {
          "output_type": "execute_result",
          "data": {
            "text/plain": [
              "Pernamuco         Recife\n",
              "Paraíba      João Pessoa\n",
              "Ceará          Fortaleza\n",
              "Bahia           Salvador\n",
              "Alagoas           Maceió\n",
              "dtype: object"
            ]
          },
          "metadata": {},
          "execution_count": 19
        }
      ]
    },
    {
      "cell_type": "code",
      "source": [
        "dictEmpresas = {'Apple':947.062,\n",
        "                'Google':819.573,\n",
        "                'Amazon':705.646,\n",
        "                'Microsoft':611.460,\n",
        "                'Tencent':214.023,\n",
        "                'McDonalds':191.526,\n",
        "                'Visa':191.032,\n",
        "                'Facebook':186.421,\n",
        "                'Alibaba':169.966,\n",
        "                'Louis Vuitton':124.273}"
      ],
      "metadata": {
        "id": "9c-O4k25lNSW"
      },
      "execution_count": null,
      "outputs": []
    },
    {
      "cell_type": "code",
      "source": [
        "serie4 = pd.Series(dictEmpresas)\n",
        "serie4"
      ],
      "metadata": {
        "colab": {
          "base_uri": "https://localhost:8080/"
        },
        "id": "T5B18neRlWQn",
        "outputId": "ef41ce48-789e-4496-c1a1-3512fb6192cc"
      },
      "execution_count": null,
      "outputs": [
        {
          "output_type": "execute_result",
          "data": {
            "text/plain": [
              "Apple            947.062\n",
              "Google           819.573\n",
              "Amazon           705.646\n",
              "Microsoft        611.460\n",
              "Tencent          214.023\n",
              "McDonalds        191.526\n",
              "Visa             191.032\n",
              "Facebook         186.421\n",
              "Alibaba          169.966\n",
              "Louis Vuitton    124.273\n",
              "dtype: float64"
            ]
          },
          "metadata": {},
          "execution_count": 22
        }
      ]
    },
    {
      "cell_type": "code",
      "source": [
        "Empresas = ['Apple','Google','Amazon',\n",
        "                'Microsoft','Tencent',\n",
        "                'McDonalds','Visa',\n",
        "                'Facebook','Alibaba',\n",
        "                'Louis Vuitton']"
      ],
      "metadata": {
        "id": "8jRlKEy0nBo-"
      },
      "execution_count": null,
      "outputs": []
    },
    {
      "cell_type": "code",
      "source": [
        "bilhoes = [947.062, 819.573, 705.646,\n",
        "                611.460, 214.023,\n",
        "                191.526, 191.032,\n",
        "                186.421, 169.966,\n",
        "                124.273]"
      ],
      "metadata": {
        "id": "-zlZJh-nntFu"
      },
      "execution_count": null,
      "outputs": []
    },
    {
      "cell_type": "code",
      "source": [
        "serie5 = pd.Series(bilhoes, Empresas)\n",
        "serie5"
      ],
      "metadata": {
        "colab": {
          "base_uri": "https://localhost:8080/"
        },
        "id": "JGH1Y6XnoDN_",
        "outputId": "f70db6f2-1c19-4181-dd9c-4c684351e9e5"
      },
      "execution_count": null,
      "outputs": [
        {
          "output_type": "execute_result",
          "data": {
            "text/plain": [
              "Apple            947.062\n",
              "Google           819.573\n",
              "Amazon           705.646\n",
              "Microsoft        611.460\n",
              "Tencent          214.023\n",
              "McDonalds        191.526\n",
              "Visa             191.032\n",
              "Facebook         186.421\n",
              "Alibaba          169.966\n",
              "Louis Vuitton    124.273\n",
              "dtype: float64"
            ]
          },
          "metadata": {},
          "execution_count": 25
        }
      ]
    },
    {
      "cell_type": "code",
      "source": [
        "import matplotlib.pyplot as plt"
      ],
      "metadata": {
        "id": "OXk3vl5KqI4-"
      },
      "execution_count": null,
      "outputs": []
    },
    {
      "cell_type": "code",
      "source": [
        "serie5.plot()"
      ],
      "metadata": {
        "colab": {
          "base_uri": "https://localhost:8080/",
          "height": 447
        },
        "id": "gJILJROBqbY1",
        "outputId": "5046ea19-60d5-42ab-ef0e-9b45dc056f7f"
      },
      "execution_count": null,
      "outputs": [
        {
          "output_type": "execute_result",
          "data": {
            "text/plain": [
              "<Axes: >"
            ]
          },
          "metadata": {},
          "execution_count": 27
        },
        {
          "output_type": "display_data",
          "data": {
            "text/plain": [
              "<Figure size 640x480 with 1 Axes>"
            ],
            "image/png": "[encoded data removed]"
          },
          "metadata": {}
        }
      ]
    }
  ]
}